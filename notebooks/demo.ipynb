{
 "cells": [
  {
   "cell_type": "markdown",
   "id": "7c0838058bf95b5f",
   "metadata": {},
   "source": [
    "# Demo: Python–SQL Analysis\n",
    "This notebook demonstrates how Python and SQL can be combined to query a simple, dimensionally modelled OLAP data warehouse using a star schema.\n",
    "\n",
    "The dimension and fact tables within the warehouse were built using slightly modified raw CSV data from https://github.com/dbt-labs/jaffle-shop-data that has been pre-transformed, and loaded into 'warehouse.db' using Polars and Sqlite3.\n"
   ]
  },
  {
   "cell_type": "code",
   "id": "256e08d4886f25e9",
   "metadata": {
    "ExecuteTime": {
     "end_time": "2025-08-31T09:04:37.336805Z",
     "start_time": "2025-08-31T09:04:37.329486Z"
    }
   },
   "source": [
    "import src.db_connection as dbc\n",
    "import polars as pl"
   ],
   "outputs": [],
   "execution_count": 24
  },
  {
   "cell_type": "markdown",
   "id": "e7f37b2b06706fa2",
   "metadata": {},
   "source": "### Connecting to the data warehouse"
  },
  {
   "cell_type": "code",
   "id": "bce2bcc3cf8a6837",
   "metadata": {
    "ExecuteTime": {
     "end_time": "2025-08-31T09:04:37.353068Z",
     "start_time": "2025-08-31T09:04:37.348051Z"
    }
   },
   "source": [
    "connection_to_db = dbc.connect_to_db()"
   ],
   "outputs": [],
   "execution_count": 25
  },
  {
   "cell_type": "markdown",
   "id": "eaed5842ffed0dbf",
   "metadata": {},
   "source": [
    "### Exploring the dimension and fact tables"
   ]
  },
  {
   "cell_type": "code",
   "id": "9d48896a04f8d80b",
   "metadata": {
    "ExecuteTime": {
     "end_time": "2025-08-31T09:04:37.371864Z",
     "start_time": "2025-08-31T09:04:37.362133Z"
    }
   },
   "source": [
    "pl.read_database(\n",
    "    \"\"\"\n",
    "    SELECT name AS dw_table_name\n",
    "    FROM sqlite_master WHERE type=\"table\"\n",
    "    \"\"\", connection_to_db)"
   ],
   "outputs": [
    {
     "data": {
      "text/plain": [
       "shape: (6, 1)\n",
       "┌─────────────────┐\n",
       "│ dw_table_name   │\n",
       "│ ---             │\n",
       "│ str             │\n",
       "╞═════════════════╡\n",
       "│ dim_date        │\n",
       "│ dim_store       │\n",
       "│ dim_customer    │\n",
       "│ dim_product     │\n",
       "│ fact_order      │\n",
       "│ fact_order_item │\n",
       "└─────────────────┘"
      ],
      "text/html": [
       "<div><style>\n",
       ".dataframe > thead > tr,\n",
       ".dataframe > tbody > tr {\n",
       "  text-align: right;\n",
       "  white-space: pre-wrap;\n",
       "}\n",
       "</style>\n",
       "<small>shape: (6, 1)</small><table border=\"1\" class=\"dataframe\"><thead><tr><th>dw_table_name</th></tr><tr><td>str</td></tr></thead><tbody><tr><td>&quot;dim_date&quot;</td></tr><tr><td>&quot;dim_store&quot;</td></tr><tr><td>&quot;dim_customer&quot;</td></tr><tr><td>&quot;dim_product&quot;</td></tr><tr><td>&quot;fact_order&quot;</td></tr><tr><td>&quot;fact_order_item&quot;</td></tr></tbody></table></div>"
      ]
     },
     "execution_count": 26,
     "metadata": {},
     "output_type": "execute_result"
    }
   ],
   "execution_count": 26
  },
  {
   "cell_type": "markdown",
   "id": "151278e2b0eb3db7",
   "metadata": {},
   "source": [
    "#### Example: Date dimension table (dim_date)\n",
    "The date dimension table extends a simple date value with additional columns that are useful to simplify queries, or target business-driven identifiers such as days, months or quarters. It utilises an integer-based \"date_id\" derived from the actual date as a primary key, which also acts as a foreign key for the \"order_date_id\" column in the order fact table."
   ]
  },
  {
   "cell_type": "code",
   "id": "ffdcb66051238756",
   "metadata": {
    "ExecuteTime": {
     "end_time": "2025-08-31T09:04:37.402796Z",
     "start_time": "2025-08-31T09:04:37.397972Z"
    }
   },
   "source": [
    "pl.read_database(\n",
    "    \"\"\"\n",
    "    SELECT * FROM dim_date\n",
    "    LIMIT 5\n",
    "    \"\"\", connection_to_db)"
   ],
   "outputs": [
    {
     "data": {
      "text/plain": [
       "shape: (5, 8)\n",
       "┌──────────┬─────────────┬─────────┬───────────┬───────────┬────────────┬──────┬─────┐\n",
       "│ date_id  ┆ date_actual ┆ day_num ┆ day_name  ┆ month_num ┆ month_name ┆ year ┆ qtr │\n",
       "│ ---      ┆ ---         ┆ ---     ┆ ---       ┆ ---       ┆ ---        ┆ ---  ┆ --- │\n",
       "│ i64      ┆ str         ┆ i64     ┆ str       ┆ i64       ┆ str        ┆ i64  ┆ i64 │\n",
       "╞══════════╪═════════════╪═════════╪═══════════╪═══════════╪════════════╪══════╪═════╡\n",
       "│ 19010101 ┆ 1901-01-01  ┆ 1       ┆ Tuesday   ┆ 1         ┆ January    ┆ 1901 ┆ 1   │\n",
       "│ 19010102 ┆ 1901-01-02  ┆ 2       ┆ Wednesday ┆ 1         ┆ January    ┆ 1901 ┆ 1   │\n",
       "│ 19010103 ┆ 1901-01-03  ┆ 3       ┆ Thursday  ┆ 1         ┆ January    ┆ 1901 ┆ 1   │\n",
       "│ 19010104 ┆ 1901-01-04  ┆ 4       ┆ Friday    ┆ 1         ┆ January    ┆ 1901 ┆ 1   │\n",
       "│ 19010105 ┆ 1901-01-05  ┆ 5       ┆ Saturday  ┆ 1         ┆ January    ┆ 1901 ┆ 1   │\n",
       "└──────────┴─────────────┴─────────┴───────────┴───────────┴────────────┴──────┴─────┘"
      ],
      "text/html": [
       "<div><style>\n",
       ".dataframe > thead > tr,\n",
       ".dataframe > tbody > tr {\n",
       "  text-align: right;\n",
       "  white-space: pre-wrap;\n",
       "}\n",
       "</style>\n",
       "<small>shape: (5, 8)</small><table border=\"1\" class=\"dataframe\"><thead><tr><th>date_id</th><th>date_actual</th><th>day_num</th><th>day_name</th><th>month_num</th><th>month_name</th><th>year</th><th>qtr</th></tr><tr><td>i64</td><td>str</td><td>i64</td><td>str</td><td>i64</td><td>str</td><td>i64</td><td>i64</td></tr></thead><tbody><tr><td>19010101</td><td>&quot;1901-01-01&quot;</td><td>1</td><td>&quot;Tuesday&quot;</td><td>1</td><td>&quot;January&quot;</td><td>1901</td><td>1</td></tr><tr><td>19010102</td><td>&quot;1901-01-02&quot;</td><td>2</td><td>&quot;Wednesday&quot;</td><td>1</td><td>&quot;January&quot;</td><td>1901</td><td>1</td></tr><tr><td>19010103</td><td>&quot;1901-01-03&quot;</td><td>3</td><td>&quot;Thursday&quot;</td><td>1</td><td>&quot;January&quot;</td><td>1901</td><td>1</td></tr><tr><td>19010104</td><td>&quot;1901-01-04&quot;</td><td>4</td><td>&quot;Friday&quot;</td><td>1</td><td>&quot;January&quot;</td><td>1901</td><td>1</td></tr><tr><td>19010105</td><td>&quot;1901-01-05&quot;</td><td>5</td><td>&quot;Saturday&quot;</td><td>1</td><td>&quot;January&quot;</td><td>1901</td><td>1</td></tr></tbody></table></div>"
      ]
     },
     "execution_count": 27,
     "metadata": {},
     "output_type": "execute_result"
    }
   ],
   "execution_count": 27
  },
  {
   "cell_type": "markdown",
   "id": "753539ce7f800474",
   "metadata": {},
   "source": [
    "#### Example: Store dimension table (dim_store)\n",
    "This table provides information about physical stores. When the table was created as part of the ETL process, the \"store_id\" column was introduced as a surrogate primary key for the original store GUID. As with the other tables, the use of small integer-based surrogate keys can help to improve query and join performance."
   ]
  },
  {
   "cell_type": "code",
   "id": "38bcee0066519268",
   "metadata": {
    "ExecuteTime": {
     "end_time": "2025-08-31T09:04:37.435935Z",
     "start_time": "2025-08-31T09:04:37.430409Z"
    }
   },
   "source": [
    "pl.read_database(\n",
    "    \"\"\"\n",
    "    SELECT * FROM dim_store\n",
    "    LIMIT 5\n",
    "    \"\"\", connection_to_db)"
   ],
   "outputs": [
    {
     "data": {
      "text/plain": [
       "shape: (5, 4)\n",
       "┌──────────┬─────────────────────────────────┬───────────────┬──────────┐\n",
       "│ store_id ┆ store_actual_id                 ┆ name          ┆ tax_rate │\n",
       "│ ---      ┆ ---                             ┆ ---           ┆ ---      │\n",
       "│ i64      ┆ str                             ┆ str           ┆ f64      │\n",
       "╞══════════╪═════════════════════════════════╪═══════════════╪══════════╡\n",
       "│ 1        ┆ a9128331-08d7-41a2-b615-21283e… ┆ Philadelphia  ┆ 0.06     │\n",
       "│ 2        ┆ a2a24e87-dec8-4f5d-9c9e-0e9849… ┆ Brooklyn      ┆ 0.04     │\n",
       "│ 3        ┆ e1a600e7-e70a-43a8-96fd-a6dd26… ┆ Chicago       ┆ 0.0625   │\n",
       "│ 4        ┆ 0d16236e-9a7f-4cd6-a9ec-24b16f… ┆ San Francisco ┆ 0.075    │\n",
       "│ 5        ┆ ca0b89cc-6d98-4b87-88e3-5a0d95… ┆ New Orleans   ┆ 0.04     │\n",
       "└──────────┴─────────────────────────────────┴───────────────┴──────────┘"
      ],
      "text/html": [
       "<div><style>\n",
       ".dataframe > thead > tr,\n",
       ".dataframe > tbody > tr {\n",
       "  text-align: right;\n",
       "  white-space: pre-wrap;\n",
       "}\n",
       "</style>\n",
       "<small>shape: (5, 4)</small><table border=\"1\" class=\"dataframe\"><thead><tr><th>store_id</th><th>store_actual_id</th><th>name</th><th>tax_rate</th></tr><tr><td>i64</td><td>str</td><td>str</td><td>f64</td></tr></thead><tbody><tr><td>1</td><td>&quot;a9128331-08d7-41a2-b615-21283e…</td><td>&quot;Philadelphia&quot;</td><td>0.06</td></tr><tr><td>2</td><td>&quot;a2a24e87-dec8-4f5d-9c9e-0e9849…</td><td>&quot;Brooklyn&quot;</td><td>0.04</td></tr><tr><td>3</td><td>&quot;e1a600e7-e70a-43a8-96fd-a6dd26…</td><td>&quot;Chicago&quot;</td><td>0.0625</td></tr><tr><td>4</td><td>&quot;0d16236e-9a7f-4cd6-a9ec-24b16f…</td><td>&quot;San Francisco&quot;</td><td>0.075</td></tr><tr><td>5</td><td>&quot;ca0b89cc-6d98-4b87-88e3-5a0d95…</td><td>&quot;New Orleans&quot;</td><td>0.04</td></tr></tbody></table></div>"
      ]
     },
     "execution_count": 28,
     "metadata": {},
     "output_type": "execute_result"
    }
   ],
   "execution_count": 28
  },
  {
   "cell_type": "markdown",
   "id": "4ab2e5c186cab17d",
   "metadata": {},
   "source": [
    "#### Example: Order item fact table (fact_order_item)\n",
    "This fact table acts a bridge between the product dimension and order fact tables. It utilises the surrogate \"product_id\" key from the product dimension table as a foreign key while retaining the original \"order_id\" present within the central order fact table.\n",
    "\n",
    "As this fact table only acts as an intermediary and contains no numerical facts or measures, it is know as a \"factless\" fact table."
   ]
  },
  {
   "cell_type": "code",
   "id": "c44c769ae2262c24",
   "metadata": {
    "ExecuteTime": {
     "end_time": "2025-08-31T09:04:37.458148Z",
     "start_time": "2025-08-31T09:04:37.453627Z"
    }
   },
   "source": [
    "pl.read_database(\n",
    "    \"\"\"\n",
    "    SELECT * FROM fact_order_item\n",
    "    LIMIT 5\n",
    "    \"\"\", connection_to_db)"
   ],
   "outputs": [
    {
     "data": {
      "text/plain": [
       "shape: (5, 4)\n",
       "┌───────────────┬─────────────────────────────────┬─────────────────────────────────┬────────────┐\n",
       "│ order_item_id ┆ order_item_actual_id            ┆ order_id                        ┆ product_id │\n",
       "│ ---           ┆ ---                             ┆ ---                             ┆ ---        │\n",
       "│ i64           ┆ str                             ┆ str                             ┆ i64        │\n",
       "╞═══════════════╪═════════════════════════════════╪═════════════════════════════════╪════════════╡\n",
       "│ 1             ┆ 6136835c-cfa4-4308-bd65-440f7b… ┆ 363ab5f2-78b4-4227-9333-9701ef… ┆ 6          │\n",
       "│ 2             ┆ 1a5fc7f0-1573-454a-ae79-576673… ┆ 363ab5f2-78b4-4227-9333-9701ef… ┆ 2          │\n",
       "│ 3             ┆ d32d93ca-250b-47b2-b640-cb482e… ┆ d6cdb882-aa8c-4b5a-a478-4321ef… ┆ 6          │\n",
       "│ 4             ┆ 8dabb27c-fcc2-4513-8adf-886cdc… ┆ ca934a93-aca1-4aeb-9786-efb0da… ┆ 9          │\n",
       "│ 5             ┆ 6849a62f-43ee-464c-8f1f-9d597f… ┆ ecd64383-c4df-41aa-b270-f3b110… ┆ 7          │\n",
       "└───────────────┴─────────────────────────────────┴─────────────────────────────────┴────────────┘"
      ],
      "text/html": [
       "<div><style>\n",
       ".dataframe > thead > tr,\n",
       ".dataframe > tbody > tr {\n",
       "  text-align: right;\n",
       "  white-space: pre-wrap;\n",
       "}\n",
       "</style>\n",
       "<small>shape: (5, 4)</small><table border=\"1\" class=\"dataframe\"><thead><tr><th>order_item_id</th><th>order_item_actual_id</th><th>order_id</th><th>product_id</th></tr><tr><td>i64</td><td>str</td><td>str</td><td>i64</td></tr></thead><tbody><tr><td>1</td><td>&quot;6136835c-cfa4-4308-bd65-440f7b…</td><td>&quot;363ab5f2-78b4-4227-9333-9701ef…</td><td>6</td></tr><tr><td>2</td><td>&quot;1a5fc7f0-1573-454a-ae79-576673…</td><td>&quot;363ab5f2-78b4-4227-9333-9701ef…</td><td>2</td></tr><tr><td>3</td><td>&quot;d32d93ca-250b-47b2-b640-cb482e…</td><td>&quot;d6cdb882-aa8c-4b5a-a478-4321ef…</td><td>6</td></tr><tr><td>4</td><td>&quot;8dabb27c-fcc2-4513-8adf-886cdc…</td><td>&quot;ca934a93-aca1-4aeb-9786-efb0da…</td><td>9</td></tr><tr><td>5</td><td>&quot;6849a62f-43ee-464c-8f1f-9d597f…</td><td>&quot;ecd64383-c4df-41aa-b270-f3b110…</td><td>7</td></tr></tbody></table></div>"
      ]
     },
     "execution_count": 29,
     "metadata": {},
     "output_type": "execute_result"
    }
   ],
   "execution_count": 29
  },
  {
   "cell_type": "markdown",
   "id": "d438c4c54b19255f",
   "metadata": {},
   "source": [
    "#### Example: Order fact table (fact_order)\n",
    "This is the central fact table within the star schema of this data warehouse. Other than the \"subtotal\", \"tax_paid\" and \"order_total\" measures, the table holds an \"order_id\" as it's primary key and several foreign keys pointing to the dimension tables, such as \"customer_id\", \"order_date_id\" and \"store_id\"."
   ]
  },
  {
   "cell_type": "code",
   "id": "daa544e8b88ccfe4",
   "metadata": {
    "ExecuteTime": {
     "end_time": "2025-08-31T09:04:37.472020Z",
     "start_time": "2025-08-31T09:04:37.465293Z"
    }
   },
   "source": [
    "pl.read_database(\n",
    "    \"\"\"\n",
    "    SELECT * FROM fact_order\n",
    "    LIMIT 5\n",
    "    \"\"\", connection_to_db)"
   ],
   "outputs": [
    {
     "data": {
      "text/plain": [
       "shape: (5, 7)\n",
       "┌─────────────────────┬─────────────┬───────────────┬──────────┬──────────┬──────────┬─────────────┐\n",
       "│ order_id            ┆ customer_id ┆ order_date_id ┆ store_id ┆ subtotal ┆ tax_paid ┆ order_total │\n",
       "│ ---                 ┆ ---         ┆ ---           ┆ ---      ┆ ---      ┆ ---      ┆ ---         │\n",
       "│ str                 ┆ i64         ┆ i64           ┆ i64      ┆ i64      ┆ f64      ┆ f64         │\n",
       "╞═════════════════════╪═════════════╪═══════════════╪══════════╪══════════╪══════════╪═════════════╡\n",
       "│ 0002d5c6-b2d3-4da1- ┆ 424         ┆ 20220417      ┆ 1        ┆ 5        ┆ 0.2      ┆ 5.2         │\n",
       "│ 8ba0-18d877…        ┆             ┆               ┆          ┆          ┆          ┆             │\n",
       "│ 0003b2a1-8756-4bc7- ┆ 708         ┆ 20250126      ┆ 1        ┆ 6        ┆ 0.24     ┆ 6.24        │\n",
       "│ 99e2-a48347…        ┆             ┆               ┆          ┆          ┆          ┆             │\n",
       "│ 00068de4-42b4-47b2- ┆ 284         ┆ 20230331      ┆ 1        ┆ 4        ┆ 0.24     ┆ 4.24        │\n",
       "│ ac56-9e6637…        ┆             ┆               ┆          ┆          ┆          ┆             │\n",
       "│ 00069750-235b-4cd8- ┆ 491         ┆ 20220401      ┆ 1        ┆ 4        ┆ 0.16     ┆ 4.16        │\n",
       "│ a37b-ef6444…        ┆             ┆               ┆          ┆          ┆          ┆             │\n",
       "│ 0025ab1c-d156-4492- ┆ 182         ┆ 20250124      ┆ 1        ┆ 7        ┆ 0.42     ┆ 7.42        │\n",
       "│ 914e-7a2149…        ┆             ┆               ┆          ┆          ┆          ┆             │\n",
       "└─────────────────────┴─────────────┴───────────────┴──────────┴──────────┴──────────┴─────────────┘"
      ],
      "text/html": [
       "<div><style>\n",
       ".dataframe > thead > tr,\n",
       ".dataframe > tbody > tr {\n",
       "  text-align: right;\n",
       "  white-space: pre-wrap;\n",
       "}\n",
       "</style>\n",
       "<small>shape: (5, 7)</small><table border=\"1\" class=\"dataframe\"><thead><tr><th>order_id</th><th>customer_id</th><th>order_date_id</th><th>store_id</th><th>subtotal</th><th>tax_paid</th><th>order_total</th></tr><tr><td>str</td><td>i64</td><td>i64</td><td>i64</td><td>i64</td><td>f64</td><td>f64</td></tr></thead><tbody><tr><td>&quot;0002d5c6-b2d3-4da1-8ba0-18d877…</td><td>424</td><td>20220417</td><td>1</td><td>5</td><td>0.2</td><td>5.2</td></tr><tr><td>&quot;0003b2a1-8756-4bc7-99e2-a48347…</td><td>708</td><td>20250126</td><td>1</td><td>6</td><td>0.24</td><td>6.24</td></tr><tr><td>&quot;00068de4-42b4-47b2-ac56-9e6637…</td><td>284</td><td>20230331</td><td>1</td><td>4</td><td>0.24</td><td>4.24</td></tr><tr><td>&quot;00069750-235b-4cd8-a37b-ef6444…</td><td>491</td><td>20220401</td><td>1</td><td>4</td><td>0.16</td><td>4.16</td></tr><tr><td>&quot;0025ab1c-d156-4492-914e-7a2149…</td><td>182</td><td>20250124</td><td>1</td><td>7</td><td>0.42</td><td>7.42</td></tr></tbody></table></div>"
      ]
     },
     "execution_count": 30,
     "metadata": {},
     "output_type": "execute_result"
    }
   ],
   "execution_count": 30
  },
  {
   "metadata": {},
   "cell_type": "markdown",
   "source": [
    "### Querying the data warehouse\n",
    "The queries below demonstrate how dimension and fact tables along with pre-aggregated data can simplify SQL statements, reducing the complexity of joins and the need for the extensive use of string and/or datetime functions."
   ],
   "id": "260a0a2c16a83ea9"
  },
  {
   "metadata": {},
   "cell_type": "markdown",
   "source": "#### What was the quarterly sales revenue for each store in 2024?",
   "id": "d252e46fea864c47"
  },
  {
   "cell_type": "code",
   "id": "5a3c861ef555dd7d",
   "metadata": {
    "ExecuteTime": {
     "end_time": "2025-08-31T09:04:37.535919Z",
     "start_time": "2025-08-31T09:04:37.485568Z"
    }
   },
   "source": [
    "pl.read_database(\n",
    "    \"\"\"SELECT\n",
    "    store.name AS store_name,\n",
    "    SUM(CASE WHEN d.qtr = 1 THEN orders.order_total ELSE 0 END) AS Q1,\n",
    "    SUM(CASE WHEN d.qtr = 2 THEN orders.order_total ELSE 0 END) AS Q2,\n",
    "    SUM(CASE WHEN d.qtr = 3 THEN orders.order_total ELSE 0 END) AS Q3,\n",
    "    SUM(CASE WHEN d.qtr = 4 THEN orders.order_total ELSE 0 END) AS Q4,\n",
    "    SUM(orders.order_total) AS total_sales_2024\n",
    "    FROM fact_order AS orders\n",
    "    JOIN dim_store AS store ON store.store_id = orders.store_id\n",
    "    JOIN dim_date AS d ON d.date_id = orders.order_date_id\n",
    "    WHERE d.year = 2024\n",
    "    GROUP BY store_name\n",
    "    ORDER BY total_sales_2024 DESC\n",
    "    \"\"\", connection_to_db)"
   ],
   "outputs": [
    {
     "data": {
      "text/plain": [
       "shape: (6, 6)\n",
       "┌───────────────┬─────────┬─────────┬─────────┬─────────┬──────────────────┐\n",
       "│ store_name    ┆ Q1      ┆ Q2      ┆ Q3      ┆ Q4      ┆ total_sales_2024 │\n",
       "│ ---           ┆ ---     ┆ ---     ┆ ---     ┆ ---     ┆ ---              │\n",
       "│ str           ┆ f64     ┆ f64     ┆ f64     ┆ f64     ┆ f64              │\n",
       "╞═══════════════╪═════════╪═════════╪═════════╪═════════╪══════════════════╡\n",
       "│ Brooklyn      ┆ 5268.11 ┆ 5202.03 ┆ 5200.86 ┆ 5256.04 ┆ 20927.04         │\n",
       "│ San Francisco ┆ 5047.57 ┆ 4710.51 ┆ 4890.49 ┆ 5774.22 ┆ 20422.79         │\n",
       "│ Chicago       ┆ 5168.24 ┆ 5556.35 ┆ 4820.44 ┆ 4667.49 ┆ 20212.52         │\n",
       "│ New Orleans   ┆ 5001.35 ┆ 4553.84 ┆ 5248.26 ┆ 5315.5  ┆ 20118.95         │\n",
       "│ Los Angeles   ┆ 4511.42 ┆ 4545.32 ┆ 5228.53 ┆ 5154.89 ┆ 19440.16         │\n",
       "│ Philadelphia  ┆ 4759.83 ┆ 4686.48 ┆ 4999.93 ┆ 4969.75 ┆ 19415.99         │\n",
       "└───────────────┴─────────┴─────────┴─────────┴─────────┴──────────────────┘"
      ],
      "text/html": [
       "<div><style>\n",
       ".dataframe > thead > tr,\n",
       ".dataframe > tbody > tr {\n",
       "  text-align: right;\n",
       "  white-space: pre-wrap;\n",
       "}\n",
       "</style>\n",
       "<small>shape: (6, 6)</small><table border=\"1\" class=\"dataframe\"><thead><tr><th>store_name</th><th>Q1</th><th>Q2</th><th>Q3</th><th>Q4</th><th>total_sales_2024</th></tr><tr><td>str</td><td>f64</td><td>f64</td><td>f64</td><td>f64</td><td>f64</td></tr></thead><tbody><tr><td>&quot;Brooklyn&quot;</td><td>5268.11</td><td>5202.03</td><td>5200.86</td><td>5256.04</td><td>20927.04</td></tr><tr><td>&quot;San Francisco&quot;</td><td>5047.57</td><td>4710.51</td><td>4890.49</td><td>5774.22</td><td>20422.79</td></tr><tr><td>&quot;Chicago&quot;</td><td>5168.24</td><td>5556.35</td><td>4820.44</td><td>4667.49</td><td>20212.52</td></tr><tr><td>&quot;New Orleans&quot;</td><td>5001.35</td><td>4553.84</td><td>5248.26</td><td>5315.5</td><td>20118.95</td></tr><tr><td>&quot;Los Angeles&quot;</td><td>4511.42</td><td>4545.32</td><td>5228.53</td><td>5154.89</td><td>19440.16</td></tr><tr><td>&quot;Philadelphia&quot;</td><td>4759.83</td><td>4686.48</td><td>4999.93</td><td>4969.75</td><td>19415.99</td></tr></tbody></table></div>"
      ]
     },
     "execution_count": 31,
     "metadata": {},
     "output_type": "execute_result"
    }
   ],
   "execution_count": 31
  },
  {
   "cell_type": "markdown",
   "id": "dc1f248597f6e4b8",
   "metadata": {},
   "source": "#### What was the highest selling product for each store for Q1 and Q2 in 2020?"
  },
  {
   "cell_type": "code",
   "id": "b415714fd1ac41f1",
   "metadata": {
    "ExecuteTime": {
     "end_time": "2025-08-31T09:04:37.753985Z",
     "start_time": "2025-08-31T09:04:37.550846Z"
    }
   },
   "source": [
    "pl.Config.set_tbl_rows(50)\n",
    "pl.read_database(\n",
    "    \"\"\"\n",
    "    -- get the total count of each product sold by store, and quarter.\n",
    "\n",
    "    WITH sales AS (SELECT\n",
    "    store.name AS store_name,\n",
    "    d.qtr AS quarter,\n",
    "    product.name AS product_name,\n",
    "    product.type AS product_type,\n",
    "    COUNT(*) AS units_sold\n",
    "    FROM fact_order AS orders\n",
    "    JOIN dim_date AS d ON d.date_id = orders.order_date_id\n",
    "    JOIN dim_store AS store ON store.store_id = orders.store_id\n",
    "    JOIN fact_order_item AS order_item ON order_item.order_id = orders.order_id\n",
    "    JOIN dim_product AS product ON product.product_id = order_item.product_id\n",
    "    WHERE\n",
    "    d.year = 2020\n",
    "    AND\n",
    "    d.qtr IN (1,2)\n",
    "    GROUP BY store_name, quarter, product_name, product_type\n",
    "    ORDER by store_name, quarter),\n",
    "\n",
    "    -- apply a row numbers based on the highest, to lowest sold products scoping it to each store, and quarter.\n",
    "\n",
    "    ranked_units_sold AS (SELECT\n",
    "    store_name,\n",
    "    quarter,\n",
    "    product_name,\n",
    "    product_type,\n",
    "    units_sold,\n",
    "    RANK() OVER (PARTITION BY store_name, quarter ORDER BY units_sold DESC) AS sale_rank\n",
    "    FROM sales)\n",
    "\n",
    "    -- get the highest selling products for store, each quarter (i.e. sale_rank = 1) and pivot the result\n",
    "\n",
    "    SELECT\n",
    "    store_name,\n",
    "    quarter,\n",
    "    product_name AS highest_selling_product_name,\n",
    "    units_sold\n",
    "    FROM\n",
    "    ranked_units_sold\n",
    "    WHERE sale_rank = 1\n",
    "    ORDER BY quarter\n",
    "    \"\"\", connection_to_db)"
   ],
   "outputs": [
    {
     "data": {
      "text/plain": [
       "shape: (12, 4)\n",
       "┌───────────────┬─────────┬──────────────────────────────┬────────────┐\n",
       "│ store_name    ┆ quarter ┆ highest_selling_product_name ┆ units_sold │\n",
       "│ ---           ┆ ---     ┆ ---                          ┆ ---        │\n",
       "│ str           ┆ i64     ┆ str                          ┆ i64        │\n",
       "╞═══════════════╪═════════╪══════════════════════════════╪════════════╡\n",
       "│ Brooklyn      ┆ 1       ┆ Vanilla ice                  ┆ 127        │\n",
       "│ Chicago       ┆ 1       ┆ Tangaroo                     ┆ 125        │\n",
       "│ Los Angeles   ┆ 1       ┆ For richer or pourover       ┆ 125        │\n",
       "│ New Orleans   ┆ 1       ┆ Chai and mighty              ┆ 108        │\n",
       "│ Philadelphia  ┆ 1       ┆ Chai and mighty              ┆ 121        │\n",
       "│ San Francisco ┆ 1       ┆ Chai and mighty              ┆ 116        │\n",
       "│ Brooklyn      ┆ 2       ┆ Vanilla ice                  ┆ 115        │\n",
       "│ Chicago       ┆ 2       ┆ Adele-ade                    ┆ 116        │\n",
       "│ Los Angeles   ┆ 2       ┆ Tangaroo                     ┆ 124        │\n",
       "│ New Orleans   ┆ 2       ┆ Vanilla ice                  ┆ 125        │\n",
       "│ Philadelphia  ┆ 2       ┆ For richer or pourover       ┆ 123        │\n",
       "│ San Francisco ┆ 2       ┆ Tangaroo                     ┆ 125        │\n",
       "└───────────────┴─────────┴──────────────────────────────┴────────────┘"
      ],
      "text/html": [
       "<div><style>\n",
       ".dataframe > thead > tr,\n",
       ".dataframe > tbody > tr {\n",
       "  text-align: right;\n",
       "  white-space: pre-wrap;\n",
       "}\n",
       "</style>\n",
       "<small>shape: (12, 4)</small><table border=\"1\" class=\"dataframe\"><thead><tr><th>store_name</th><th>quarter</th><th>highest_selling_product_name</th><th>units_sold</th></tr><tr><td>str</td><td>i64</td><td>str</td><td>i64</td></tr></thead><tbody><tr><td>&quot;Brooklyn&quot;</td><td>1</td><td>&quot;Vanilla ice&quot;</td><td>127</td></tr><tr><td>&quot;Chicago&quot;</td><td>1</td><td>&quot;Tangaroo&quot;</td><td>125</td></tr><tr><td>&quot;Los Angeles&quot;</td><td>1</td><td>&quot;For richer or pourover&quot;</td><td>125</td></tr><tr><td>&quot;New Orleans&quot;</td><td>1</td><td>&quot;Chai and mighty&quot;</td><td>108</td></tr><tr><td>&quot;Philadelphia&quot;</td><td>1</td><td>&quot;Chai and mighty&quot;</td><td>121</td></tr><tr><td>&quot;San Francisco&quot;</td><td>1</td><td>&quot;Chai and mighty&quot;</td><td>116</td></tr><tr><td>&quot;Brooklyn&quot;</td><td>2</td><td>&quot;Vanilla ice&quot;</td><td>115</td></tr><tr><td>&quot;Chicago&quot;</td><td>2</td><td>&quot;Adele-ade&quot;</td><td>116</td></tr><tr><td>&quot;Los Angeles&quot;</td><td>2</td><td>&quot;Tangaroo&quot;</td><td>124</td></tr><tr><td>&quot;New Orleans&quot;</td><td>2</td><td>&quot;Vanilla ice&quot;</td><td>125</td></tr><tr><td>&quot;Philadelphia&quot;</td><td>2</td><td>&quot;For richer or pourover&quot;</td><td>123</td></tr><tr><td>&quot;San Francisco&quot;</td><td>2</td><td>&quot;Tangaroo&quot;</td><td>125</td></tr></tbody></table></div>"
      ]
     },
     "execution_count": 32,
     "metadata": {},
     "output_type": "execute_result"
    }
   ],
   "execution_count": 32
  },
  {
   "metadata": {},
   "cell_type": "markdown",
   "source": "#### How did monthly sales change for the Los Angeles Store in 2023?",
   "id": "ca82b15fac7466d5"
  },
  {
   "metadata": {
    "ExecuteTime": {
     "end_time": "2025-08-31T09:04:37.808195Z",
     "start_time": "2025-08-31T09:04:37.770205Z"
    }
   },
   "cell_type": "code",
   "source": [
    "pl.read_database(\n",
    "    \"\"\"\n",
    "    -- get monthly sales for the Los Angeles store\n",
    "\n",
    "    WITH monthly_sales AS (\n",
    "    SELECT\n",
    "    d.month_num,\n",
    "    d.month_name,\n",
    "    SUM(orders.order_total) AS total_sales\n",
    "    FROM fact_order AS orders\n",
    "    JOIN dim_date AS d ON d.date_id = orders.order_date_id\n",
    "    JOIN dim_store AS store ON store.store_id = orders.store_id\n",
    "    WHERE\n",
    "    store.name = \"Los Angeles\"\n",
    "    AND\n",
    "    d.year = 2023\n",
    "    GROUP BY d.month_num, d.month_name\n",
    "    ORDER BY d.month_num ASC)\n",
    "\n",
    "    -- use LAG function to calculate previous months sales total, and compare month on month.\n",
    "\n",
    "    SELECT\n",
    "    month_name,\n",
    "    total_sales,\n",
    "    LAG(total_sales) OVER (ORDER BY month_num ASC) AS prev_month_sales,\n",
    "    total_sales - LAG(total_sales) OVER (ORDER BY month_num ASC) AS monthly_sales_dif\n",
    "    FROM monthly_sales\n",
    "    ORDER BY month_num ASC\n",
    "    \"\"\", connection_to_db)"
   ],
   "id": "e3ede08730ccb4c9",
   "outputs": [
    {
     "data": {
      "text/plain": [
       "shape: (12, 4)\n",
       "┌────────────┬─────────────┬──────────────────┬───────────────────┐\n",
       "│ month_name ┆ total_sales ┆ prev_month_sales ┆ monthly_sales_dif │\n",
       "│ ---        ┆ ---         ┆ ---              ┆ ---               │\n",
       "│ str        ┆ f64         ┆ f64              ┆ f64               │\n",
       "╞════════════╪═════════════╪══════════════════╪═══════════════════╡\n",
       "│ January    ┆ 1570.59     ┆ null             ┆ null              │\n",
       "│ February   ┆ 1545.07     ┆ 1570.59          ┆ -25.52            │\n",
       "│ March      ┆ 1903.44     ┆ 1545.07          ┆ 358.37            │\n",
       "│ April      ┆ 1719.61     ┆ 1903.44          ┆ -183.83           │\n",
       "│ May        ┆ 1642.0      ┆ 1719.61          ┆ -77.61            │\n",
       "│ June       ┆ 1497.45     ┆ 1642.0           ┆ -144.55           │\n",
       "│ July       ┆ 1728.68     ┆ 1497.45          ┆ 231.23            │\n",
       "│ August     ┆ 1551.84     ┆ 1728.68          ┆ -176.84           │\n",
       "│ September  ┆ 1651.43     ┆ 1551.84          ┆ 99.59             │\n",
       "│ October    ┆ 1652.68     ┆ 1651.43          ┆ 1.25              │\n",
       "│ November   ┆ 1602.34     ┆ 1652.68          ┆ -50.34            │\n",
       "│ December   ┆ 1835.88     ┆ 1602.34          ┆ 233.54            │\n",
       "└────────────┴─────────────┴──────────────────┴───────────────────┘"
      ],
      "text/html": [
       "<div><style>\n",
       ".dataframe > thead > tr,\n",
       ".dataframe > tbody > tr {\n",
       "  text-align: right;\n",
       "  white-space: pre-wrap;\n",
       "}\n",
       "</style>\n",
       "<small>shape: (12, 4)</small><table border=\"1\" class=\"dataframe\"><thead><tr><th>month_name</th><th>total_sales</th><th>prev_month_sales</th><th>monthly_sales_dif</th></tr><tr><td>str</td><td>f64</td><td>f64</td><td>f64</td></tr></thead><tbody><tr><td>&quot;January&quot;</td><td>1570.59</td><td>null</td><td>null</td></tr><tr><td>&quot;February&quot;</td><td>1545.07</td><td>1570.59</td><td>-25.52</td></tr><tr><td>&quot;March&quot;</td><td>1903.44</td><td>1545.07</td><td>358.37</td></tr><tr><td>&quot;April&quot;</td><td>1719.61</td><td>1903.44</td><td>-183.83</td></tr><tr><td>&quot;May&quot;</td><td>1642.0</td><td>1719.61</td><td>-77.61</td></tr><tr><td>&quot;June&quot;</td><td>1497.45</td><td>1642.0</td><td>-144.55</td></tr><tr><td>&quot;July&quot;</td><td>1728.68</td><td>1497.45</td><td>231.23</td></tr><tr><td>&quot;August&quot;</td><td>1551.84</td><td>1728.68</td><td>-176.84</td></tr><tr><td>&quot;September&quot;</td><td>1651.43</td><td>1551.84</td><td>99.59</td></tr><tr><td>&quot;October&quot;</td><td>1652.68</td><td>1651.43</td><td>1.25</td></tr><tr><td>&quot;November&quot;</td><td>1602.34</td><td>1652.68</td><td>-50.34</td></tr><tr><td>&quot;December&quot;</td><td>1835.88</td><td>1602.34</td><td>233.54</td></tr></tbody></table></div>"
      ]
     },
     "execution_count": 33,
     "metadata": {},
     "output_type": "execute_result"
    }
   ],
   "execution_count": 33
  },
  {
   "cell_type": "markdown",
   "id": "52aac0611252646c",
   "metadata": {},
   "source": "#### How many products were sold each month between 2020 and 2024?"
  },
  {
   "cell_type": "code",
   "id": "ac6c2885ada7f2fd",
   "metadata": {
    "ExecuteTime": {
     "end_time": "2025-08-31T09:04:37.847880Z",
     "start_time": "2025-08-31T09:04:37.824706Z"
    }
   },
   "source": [
    "pl.read_database(\n",
    "    \"\"\"\n",
    "    SELECT\n",
    "    d.month_name,\n",
    "    d.year,\n",
    "    COUNT(*) as units_sold\n",
    "    FROM\n",
    "    fact_order AS orders\n",
    "    JOIN dim_date AS d ON d.date_id = orders.order_date_id\n",
    "    WHERE d.year BETWEEN 2020 AND 2024\n",
    "    GROUP BY d.year, d.month_num, d.month_name\n",
    "    ORDER BY d.year, d.month_num ASC\n",
    "    \"\"\", connection_to_db).pivot(\n",
    "    index=\"month_name\",\n",
    "    on=\"year\",\n",
    "    values=\"units_sold\"\n",
    ")"
   ],
   "outputs": [
    {
     "data": {
      "text/plain": [
       "shape: (12, 6)\n",
       "┌────────────┬──────┬──────┬──────┬──────┬──────┐\n",
       "│ month_name ┆ 2020 ┆ 2021 ┆ 2022 ┆ 2023 ┆ 2024 │\n",
       "│ ---        ┆ ---  ┆ ---  ┆ ---  ┆ ---  ┆ ---  │\n",
       "│ str        ┆ i64  ┆ i64  ┆ i64  ┆ i64  ┆ i64  │\n",
       "╞════════════╪══════╪══════╪══════╪══════╪══════╡\n",
       "│ January    ┆ 1023 ┆ 982  ┆ 967  ┆ 949  ┆ 925  │\n",
       "│ February   ┆ 884  ┆ 862  ┆ 883  ┆ 911  ┆ 968  │\n",
       "│ March      ┆ 994  ┆ 960  ┆ 953  ┆ 941  ┆ 942  │\n",
       "│ April      ┆ 962  ┆ 1015 ┆ 960  ┆ 948  ┆ 926  │\n",
       "│ May        ┆ 977  ┆ 964  ┆ 1007 ┆ 948  ┆ 980  │\n",
       "│ June       ┆ 988  ┆ 967  ┆ 978  ┆ 971  ┆ 935  │\n",
       "│ July       ┆ 1050 ┆ 1020 ┆ 932  ┆ 978  ┆ 1003 │\n",
       "│ August     ┆ 969  ┆ 962  ┆ 1014 ┆ 959  ┆ 998  │\n",
       "│ September  ┆ 954  ┆ 950  ┆ 980  ┆ 922  ┆ 949  │\n",
       "│ October    ┆ 1029 ┆ 995  ┆ 959  ┆ 974  ┆ 1049 │\n",
       "│ November   ┆ 1005 ┆ 961  ┆ 956  ┆ 938  ┆ 947  │\n",
       "│ December   ┆ 938  ┆ 945  ┆ 1001 ┆ 1033 ┆ 902  │\n",
       "└────────────┴──────┴──────┴──────┴──────┴──────┘"
      ],
      "text/html": [
       "<div><style>\n",
       ".dataframe > thead > tr,\n",
       ".dataframe > tbody > tr {\n",
       "  text-align: right;\n",
       "  white-space: pre-wrap;\n",
       "}\n",
       "</style>\n",
       "<small>shape: (12, 6)</small><table border=\"1\" class=\"dataframe\"><thead><tr><th>month_name</th><th>2020</th><th>2021</th><th>2022</th><th>2023</th><th>2024</th></tr><tr><td>str</td><td>i64</td><td>i64</td><td>i64</td><td>i64</td><td>i64</td></tr></thead><tbody><tr><td>&quot;January&quot;</td><td>1023</td><td>982</td><td>967</td><td>949</td><td>925</td></tr><tr><td>&quot;February&quot;</td><td>884</td><td>862</td><td>883</td><td>911</td><td>968</td></tr><tr><td>&quot;March&quot;</td><td>994</td><td>960</td><td>953</td><td>941</td><td>942</td></tr><tr><td>&quot;April&quot;</td><td>962</td><td>1015</td><td>960</td><td>948</td><td>926</td></tr><tr><td>&quot;May&quot;</td><td>977</td><td>964</td><td>1007</td><td>948</td><td>980</td></tr><tr><td>&quot;June&quot;</td><td>988</td><td>967</td><td>978</td><td>971</td><td>935</td></tr><tr><td>&quot;July&quot;</td><td>1050</td><td>1020</td><td>932</td><td>978</td><td>1003</td></tr><tr><td>&quot;August&quot;</td><td>969</td><td>962</td><td>1014</td><td>959</td><td>998</td></tr><tr><td>&quot;September&quot;</td><td>954</td><td>950</td><td>980</td><td>922</td><td>949</td></tr><tr><td>&quot;October&quot;</td><td>1029</td><td>995</td><td>959</td><td>974</td><td>1049</td></tr><tr><td>&quot;November&quot;</td><td>1005</td><td>961</td><td>956</td><td>938</td><td>947</td></tr><tr><td>&quot;December&quot;</td><td>938</td><td>945</td><td>1001</td><td>1033</td><td>902</td></tr></tbody></table></div>"
      ]
     },
     "execution_count": 34,
     "metadata": {},
     "output_type": "execute_result"
    }
   ],
   "execution_count": 34
  },
  {
   "cell_type": "markdown",
   "id": "a988bf3ab3c79871",
   "metadata": {},
   "source": "#### Which customers made more than 5 purchases in the month of January this year?"
  },
  {
   "cell_type": "code",
   "id": "750ceb5d905c7554",
   "metadata": {
    "ExecuteTime": {
     "end_time": "2025-08-31T09:04:37.902924Z",
     "start_time": "2025-08-31T09:04:37.867831Z"
    }
   },
   "source": [
    "pl.read_database(\n",
    "     \"\"\"\n",
    "    SELECT\n",
    "    customer.name AS customer_name,\n",
    "    COUNT(*) as total_purchases_jan_2025\n",
    "    FROM\n",
    "    fact_order AS orders\n",
    "    JOIN dim_date AS d ON d.date_id = orders.order_date_id\n",
    "    JOIN dim_customer AS customer ON customer.customer_id = orders.customer_id\n",
    "    WHERE\n",
    "    d.year = 2025\n",
    "    AND\n",
    "    d.month_name = \"January\"\n",
    "    GROUP BY customer_name\n",
    "    HAVING COUNT(*) > 5\n",
    "    ORDER BY total_purchases_jan_2025 DESC\n",
    "    \"\"\", connection_to_db)"
   ],
   "outputs": [
    {
     "data": {
      "text/plain": [
       "shape: (7, 2)\n",
       "┌──────────────────┬──────────────────────────┐\n",
       "│ customer_name    ┆ total_purchases_jan_2025 │\n",
       "│ ---              ┆ ---                      │\n",
       "│ str              ┆ i64                      │\n",
       "╞══════════════════╪══════════════════════════╡\n",
       "│ Margaret Lopez   ┆ 7                        │\n",
       "│ Henry Zamora     ┆ 7                        │\n",
       "│ Michael Figueroa ┆ 6                        │\n",
       "│ Kevin Graham     ┆ 6                        │\n",
       "│ Cynthia Owens    ┆ 6                        │\n",
       "│ Christy Acosta   ┆ 6                        │\n",
       "│ Blake Matthews   ┆ 6                        │\n",
       "└──────────────────┴──────────────────────────┘"
      ],
      "text/html": [
       "<div><style>\n",
       ".dataframe > thead > tr,\n",
       ".dataframe > tbody > tr {\n",
       "  text-align: right;\n",
       "  white-space: pre-wrap;\n",
       "}\n",
       "</style>\n",
       "<small>shape: (7, 2)</small><table border=\"1\" class=\"dataframe\"><thead><tr><th>customer_name</th><th>total_purchases_jan_2025</th></tr><tr><td>str</td><td>i64</td></tr></thead><tbody><tr><td>&quot;Margaret Lopez&quot;</td><td>7</td></tr><tr><td>&quot;Henry Zamora&quot;</td><td>7</td></tr><tr><td>&quot;Michael Figueroa&quot;</td><td>6</td></tr><tr><td>&quot;Kevin Graham&quot;</td><td>6</td></tr><tr><td>&quot;Cynthia Owens&quot;</td><td>6</td></tr><tr><td>&quot;Christy Acosta&quot;</td><td>6</td></tr><tr><td>&quot;Blake Matthews&quot;</td><td>6</td></tr></tbody></table></div>"
      ]
     },
     "execution_count": 35,
     "metadata": {},
     "output_type": "execute_result"
    }
   ],
   "execution_count": 35
  }
 ],
 "metadata": {
  "kernelspec": {
   "display_name": "Python 3 (ipykernel)",
   "language": "python",
   "name": "python3"
  },
  "language_info": {
   "codemirror_mode": {
    "name": "ipython",
    "version": 3
   },
   "file_extension": ".py",
   "mimetype": "text/x-python",
   "name": "python",
   "nbconvert_exporter": "python",
   "pygments_lexer": "ipython3",
   "version": "3.12.4"
  }
 },
 "nbformat": 4,
 "nbformat_minor": 5
}
